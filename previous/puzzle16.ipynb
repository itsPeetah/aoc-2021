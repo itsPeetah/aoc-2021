{
 "cells": [
  {
   "cell_type": "code",
   "execution_count": 232,
   "metadata": {},
   "outputs": [],
   "source": [
    "puzzle_input = open(\"puzzle16.txt\").read().strip()\n",
    "conv = {\n",
    "    \"0\" : \"0000\", \"1\" : \"0001\", \"2\" : \"0010\", \"3\" : \"0011\",\n",
    "    \"4\" : \"0100\", \"5\" : \"0101\", \"6\" : \"0110\", \"7\" : \"0111\",\n",
    "    \"8\" : \"1000\", \"9\" : \"1001\", \"A\" : \"1010\", \"B\" : \"1011\",\n",
    "    \"C\" : \"1100\", \"D\" : \"1101\", \"E\" : \"1110\", \"F\" : \"1111\",\n",
    "}\n",
    "idata = \"\".join([conv[c]for c in puzzle_input])"
   ]
  },
  {
   "cell_type": "code",
   "execution_count": 251,
   "metadata": {},
   "outputs": [],
   "source": [
    "sumofversions = 0\n",
    "def parse(data):\n",
    "    global sumofversions\n",
    "    # Calculate header and sum version\n",
    "    ver, tid = int(data[:3], 2), int(data[3:6], 2)\n",
    "    sumofversions += ver\n",
    "    # Scroll data\n",
    "    data = data[6:]\n",
    "\n",
    "    if tid == 4:\n",
    "        # If literal calculate value\n",
    "        lit,g = \"\", \"\"\n",
    "        while True:\n",
    "            g = data[0]\n",
    "            lit += data[1:5]\n",
    "            data = data[5:]\n",
    "            # Break when the last 5-bit group is found\n",
    "            if g == '0': break    \n",
    "        lit = int(lit, 2)\n",
    "    else:\n",
    "        # Get length type id\n",
    "        ltid = data[0]\n",
    "        data = data[1:]\n",
    "        if ltid == '0':\n",
    "            l = int(data[:15], 2)\n",
    "            data = data[15:]\n",
    "            subdata = data[:l]\n",
    "            # Parse subpackets\n",
    "            while subdata:\n",
    "                subdata = parse(subdata)\n",
    "            data = data[l:]    \n",
    "            \n",
    "        else:\n",
    "            q = int(data[:11], 2)\n",
    "            data = data[11:]\n",
    "            # Parse subpackets\n",
    "            for _ in range(q):\n",
    "                data = parse(data)\n",
    "    return data\n",
    "        \n",
    "\n"
   ]
  },
  {
   "cell_type": "code",
   "execution_count": 249,
   "metadata": {},
   "outputs": [
    {
     "name": "stdout",
     "output_type": "stream",
     "text": [
      "0\n",
      "906\n"
     ]
    }
   ],
   "source": [
    "idata = \"\".join([conv[c]for c in puzzle_input])\n",
    "sumofversions = 0\n",
    "print(parse(idata))\n",
    "print(sumofversions)"
   ]
  },
  {
   "cell_type": "code",
   "execution_count": 263,
   "metadata": {},
   "outputs": [],
   "source": [
    "def multiply(v):\n",
    "    r = 1\n",
    "    for x in v: r *= x\n",
    "    return r\n",
    "def gt(v):\n",
    "    return 1 if v[0] > v[1] else 0\n",
    "def lt(v):\n",
    "    return 1 if v[0] < v[1] else 0\n",
    "def eq(v):\n",
    "    return 1 if v[0] == v[1] else 0\n",
    "\n",
    "operators = [\n",
    "    sum,\n",
    "    multiply,\n",
    "    min,\n",
    "    max,\n",
    "    None,\n",
    "    gt,\n",
    "    lt,\n",
    "    eq\n",
    "]"
   ]
  },
  {
   "cell_type": "code",
   "execution_count": 264,
   "metadata": {},
   "outputs": [],
   "source": [
    "sumofversions = 0\n",
    "def parse2(data):\n",
    "    global sumofversions\n",
    "    # Calculate header and sum version\n",
    "    ver, tid = int(data[:3], 2), int(data[3:6], 2)\n",
    "    sumofversions += ver\n",
    "    # Scroll data\n",
    "    data = data[6:]\n",
    "\n",
    "    if tid == 4:\n",
    "        # If literal calculate value\n",
    "        lit,g = \"\", \"\"\n",
    "        while True:\n",
    "            g = data[0]\n",
    "            lit += data[1:5]\n",
    "            data = data[5:]\n",
    "            # Break when the last 5-bit group is found\n",
    "            if g == '0': break\n",
    "        lit = int(lit, 2)\n",
    "        return data, lit\n",
    "    else:\n",
    "        # Get length type id\n",
    "        ltid = data[0]\n",
    "        data = data[1:]\n",
    "        if ltid == '0':\n",
    "            l = int(data[:15], 2)\n",
    "            data = data[15:]\n",
    "            subdata = data[:l]\n",
    "            subvals = []\n",
    "            # Parse subpackets\n",
    "            while subdata:\n",
    "                subdata, subv = parse2(subdata)\n",
    "                subvals.append(subv)\n",
    "            data = data[l:]\n",
    "            val = (operators[tid])(subvals)\n",
    "            \n",
    "        else:\n",
    "            q = int(data[:11], 2)\n",
    "            data = data[11:]\n",
    "            subvals = []\n",
    "            # Parse subpackets\n",
    "            for _ in range(q):\n",
    "                data, subv = parse2(data)\n",
    "                subvals.append(subv)\n",
    "            val = (operators[tid])(subvals)\n",
    "    return data, val\n",
    "        \n",
    "\n"
   ]
  },
  {
   "cell_type": "code",
   "execution_count": 266,
   "metadata": {},
   "outputs": [
    {
     "name": "stdout",
     "output_type": "stream",
     "text": [
      "('0', 819324480368)\n",
      "906\n"
     ]
    }
   ],
   "source": [
    "idata = \"\".join([conv[c]for c in puzzle_input])\n",
    "sumofversions = 0\n",
    "print(parse2(idata))\n",
    "print(sumofversions)"
   ]
  },
  {
   "cell_type": "code",
   "execution_count": null,
   "metadata": {},
   "outputs": [],
   "source": []
  }
 ],
 "metadata": {
  "interpreter": {
   "hash": "aee8b7b246df8f9039afb4144a1f6fd8d2ca17a180786b69acc140d282b71a49"
  },
  "kernelspec": {
   "display_name": "Python 3.10.0 64-bit",
   "language": "python",
   "name": "python3"
  },
  "language_info": {
   "name": "python",
   "version": "3.10.0"
  },
  "orig_nbformat": 4
 },
 "nbformat": 4,
 "nbformat_minor": 2
}
