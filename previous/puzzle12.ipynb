{
 "cells": [
  {
   "cell_type": "code",
   "execution_count": 162,
   "metadata": {},
   "outputs": [
    {
     "data": {
      "text/plain": [
       "{'end': [],\n",
       " 'mx': ['HO', 'IQ', 'MU'],\n",
       " 'IQ': ['mx'],\n",
       " 'HO': ['end', 'mx', 'ni', 'xq'],\n",
       " 'xq': ['HO', 'MU', 'oz'],\n",
       " 'start': ['HO', 'MU', 'xq'],\n",
       " 'IE': ['end', 'ni', 'oz', 'qc', 'sa'],\n",
       " 'qc': ['IE'],\n",
       " 'oz': ['IE', 'ni', 'sa', 'xq'],\n",
       " 'ni': ['HO', 'IE', 'MU', 'oz'],\n",
       " 'MU': ['mx', 'ni', 'sa', 'xq'],\n",
       " 'sa': ['IE', 'MU', 'end', 'oz']}"
      ]
     },
     "execution_count": 162,
     "metadata": {},
     "output_type": "execute_result"
    }
   ],
   "source": [
    "links = [tuple(line.split('-')) for line in open(\"puzzle12.txt\").read().split('\\n') ]\n",
    "caves = {'end':[]}\n",
    "for a, b in links:\n",
    "    if a not in caves and a != 'end': caves[a] = []\n",
    "    if b not in caves and b != 'end': caves[b] = []\n",
    "    if b != 'start' and a != 'end': \n",
    "        caves[a].append(b)\n",
    "    if a != 'start' and b != 'end': \n",
    "        caves[b].append(a)\n",
    "for k in caves:\n",
    "    caves[k].sort()\n",
    "caves"
   ]
  },
  {
   "cell_type": "code",
   "execution_count": 163,
   "metadata": {},
   "outputs": [],
   "source": [
    "def find_next_steps(currentNode : str, previousNodes : list[str]) -> list[str]:\n",
    "    nextSteps = []\n",
    "    for node in caves[currentNode]:\n",
    "        if not (node.islower() and node in previousNodes):\n",
    "            nextSteps.append(node)\n",
    "    return nextSteps"
   ]
  },
  {
   "cell_type": "code",
   "execution_count": 164,
   "metadata": {},
   "outputs": [],
   "source": [
    "def find_paths(startingNode: str, currentPath: list[str], pathsFound: list[list[str]]):\n",
    "    \n",
    "    if startingNode == 'end':\n",
    "        pathsFound.append(currentPath + ['end'])\n",
    "        return\n",
    "    \n",
    "    nextSteps = find_next_steps(startingNode, currentPath)\n",
    "    if len(nextSteps) < 1:\n",
    "        pathsFound.append(currentPath)\n",
    "        return\n",
    "    \n",
    "    pathToNode = [node for node in currentPath] + [startingNode]\n",
    "    for node in nextSteps:\n",
    "        find_paths(node, pathToNode, pathsFound)"
   ]
  },
  {
   "cell_type": "code",
   "execution_count": 175,
   "metadata": {},
   "outputs": [
    {
     "name": "stdout",
     "output_type": "stream",
     "text": [
      "Found 4749 paths!\n"
     ]
    }
   ],
   "source": [
    "pathsFound = []\n",
    "startingNode = 'start'\n",
    "find_paths(startingNode, [], pathsFound)\n",
    "validPaths = [path for path in pathsFound if path[-1] == 'end']\n",
    "print(f\"Found {len(validPaths)} paths!\")"
   ]
  },
  {
   "cell_type": "code",
   "execution_count": 197,
   "metadata": {},
   "outputs": [],
   "source": [
    "def find_next_steps_2(currentNode : str, previousNodes : list[str]) -> list[str]:\n",
    "    nextSteps = []\n",
    "    smallCavesVisited = [node for node in previousNodes if node.islower()] + [currentNode]\n",
    "    doubleSmall = len(set(smallCavesVisited)) != len(smallCavesVisited)\n",
    "    for node in caves[currentNode]:\n",
    "        smallCave = node.islower() and node != 'end'\n",
    "        if not smallCave or not doubleSmall or node not in smallCavesVisited:\n",
    "            nextSteps.append(node)\n",
    "    return nextSteps"
   ]
  },
  {
   "cell_type": "code",
   "execution_count": 198,
   "metadata": {},
   "outputs": [],
   "source": [
    "def find_paths_2(startingNode: str, currentPath: list[str], pathsFound: list[list[str]]):\n",
    "    if startingNode == 'end':\n",
    "        pathsFound.append(currentPath + ['end'])\n",
    "        return\n",
    "    \n",
    "    nextSteps = find_next_steps_2(startingNode, currentPath)\n",
    "    if len(nextSteps) < 1:\n",
    "        pathsFound.append(currentPath)\n",
    "        return\n",
    "    \n",
    "    pathToNode = [node for node in currentPath] + [startingNode]\n",
    "    for node in nextSteps:\n",
    "        find_paths_2(node, pathToNode, pathsFound)"
   ]
  },
  {
   "cell_type": "code",
   "execution_count": 199,
   "metadata": {},
   "outputs": [
    {
     "name": "stdout",
     "output_type": "stream",
     "text": [
      "Found 123054 paths!\n"
     ]
    }
   ],
   "source": [
    "pathsFound = []\n",
    "startingNode = 'start'\n",
    "find_paths_2(startingNode, [], pathsFound)\n",
    "validPaths = [path for path in pathsFound if path[-1] == 'end']\n",
    "print(f\"Found {len(validPaths)} paths!\") # 9727 too low, 71579 too low"
   ]
  },
  {
   "cell_type": "code",
   "execution_count": null,
   "metadata": {},
   "outputs": [],
   "source": []
  }
 ],
 "metadata": {
  "interpreter": {
   "hash": "aee8b7b246df8f9039afb4144a1f6fd8d2ca17a180786b69acc140d282b71a49"
  },
  "kernelspec": {
   "display_name": "Python 3.10.0 64-bit",
   "language": "python",
   "name": "python3"
  },
  "language_info": {
   "codemirror_mode": {
    "name": "ipython",
    "version": 3
   },
   "file_extension": ".py",
   "mimetype": "text/x-python",
   "name": "python",
   "nbconvert_exporter": "python",
   "pygments_lexer": "ipython3",
   "version": "3.10.0"
  },
  "orig_nbformat": 4
 },
 "nbformat": 4,
 "nbformat_minor": 2
}
