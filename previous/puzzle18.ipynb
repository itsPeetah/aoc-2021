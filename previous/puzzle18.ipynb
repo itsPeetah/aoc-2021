{
 "cells": [
  {
   "cell_type": "code",
   "execution_count": 3,
   "metadata": {},
   "outputs": [],
   "source": [
    "import ast\n",
    "import string"
   ]
  },
  {
   "cell_type": "markdown",
   "metadata": {},
   "source": [
    "# THIS CODE SUCKS ASS: LOOK INTO *./tests/day 18* FOR A BETTER SOLUTION"
   ]
  },
  {
   "cell_type": "code",
   "execution_count": 127,
   "metadata": {},
   "outputs": [],
   "source": [
    "def adds(a, b):\n",
    "    return f\"[{a},{b}]\"\n",
    "    \n",
    "def reduces(a):\n",
    "    # print(\"Reducing:\", a)\n",
    "    while True:\n",
    "        a, r = explodes(a)\n",
    "        if r: pass # print(\"Exploded:\", a)\n",
    "        else:\n",
    "            a, r = splits(a)\n",
    "            if r: pass # print(\"Reduced:\", a)\n",
    "            else: break\n",
    "    return a\n"
   ]
  },
  {
   "cell_type": "code",
   "execution_count": 162,
   "metadata": {},
   "outputs": [],
   "source": [
    "def splits(a):\n",
    "    for cursor in range(len(a)):\n",
    "        if a[cursor] in string.digits and a[cursor + 1] in string.digits: return a[:cursor] + str([[n // 2, n // 2 + n % 2] for n in [int(a[cursor: cursor + 2])]][0]).replace(\" \", \"\") + a[cursor + 2:], True\n",
    "    return a, False"
   ]
  },
  {
   "cell_type": "code",
   "execution_count": 164,
   "metadata": {},
   "outputs": [],
   "source": [
    "def explodes(a : str, depth = 0):\n",
    "    for cursor in range(len(a)):\n",
    "        depth += (1 if a[cursor]  == \"[\" else ( -1 if a[cursor] == \"]\" else 0))\n",
    "        if depth == 5:\n",
    "            firstClosingBracket = a[cursor:].find(\"]\") + cursor\n",
    "            l, r, lmin, lmax, rmin, rmax= tuple(map(int, a[cursor + 1:firstClosingBracket].split(\",\"))), -1, -1, -1, -1\n",
    "            for lc in range(cursor, 0, -1):\n",
    "                if a[lc] in string.digits: lmin, lmax = lc - (1 if a[lc - 1] in string.digits else 0), lc + 1; break\n",
    "            for rc in range(firstClosingBracket, len(a)):\n",
    "                if a[rc] in string.digits: rmin, rmax = rc, rc + (2 if a[rc + 1] in string.digits else 1); break\n",
    "            if rmin != -1: a = a[:rmin] + str(int(a[rmin:rmax]) + r) + a[rmax:]\n",
    "            a = a[:cursor] + '0' + a[firstClosingBracket + 1:]\n",
    "            if lmin != -1: a = a[:lmin] + str(int(a[lmin:lmax]) + l) + a[lmax:]\n",
    "            return a, True\n",
    "    return a, False\n"
   ]
  },
  {
   "cell_type": "code",
   "execution_count": 140,
   "metadata": {},
   "outputs": [],
   "source": [
    "# https://www.reddit.com/r/adventofcode/comments/rj7cgm/comment/hp2fmmn/?utm_source=share&utm_medium=web2x&context=3\n",
    "def magnitudes(a):\n",
    "    l = ast.literal_eval(a)\n",
    "    return magnitude(l)\n",
    "\n",
    "def magnitude(a):\n",
    "    if type(a) == int: return a\n",
    "    else: return 3 * magnitude(a[0]) + 2 * magnitude(a[1])\n",
    "\n",
    "\n"
   ]
  },
  {
   "cell_type": "code",
   "execution_count": 136,
   "metadata": {},
   "outputs": [
    {
     "data": {
      "text/plain": [
       "3488"
      ]
     },
     "execution_count": 136,
     "metadata": {},
     "output_type": "execute_result"
    }
   ],
   "source": [
    "magnitudes(\"[[[[8,7],[7,7]],[[8,6],[7,7]]],[[[0,7],[6,6]],[8,7]]]\")"
   ]
  },
  {
   "cell_type": "code",
   "execution_count": 163,
   "metadata": {},
   "outputs": [
    {
     "name": "stdout",
     "output_type": "stream",
     "text": [
      "Reduced sum result is: [[[[6,6],[0,6]],[[6,6],[7,7]]],[[[7,7],[7,7]],[[7,8],[8,9]]]]\n",
      "Magnitude: 3816\n"
     ]
    }
   ],
   "source": [
    "nums = open(\"puzzle18.txt\").read().split(\"\\n\")\n",
    "res = nums[0]\n",
    "for i in range(1, len(nums)):\n",
    "    res = adds(res, nums[i])\n",
    "    res = reduces(res)\n",
    "mag = magnitudes(res)\n",
    "print(\"Reduced sum result is:\", res)\n",
    "print(\"Magnitude:\", mag)"
   ]
  },
  {
   "cell_type": "code",
   "execution_count": 161,
   "metadata": {},
   "outputs": [
    {
     "name": "stdout",
     "output_type": "stream",
     "text": [
      "Maximum magnitude:  4819\n"
     ]
    }
   ],
   "source": [
    "sumMags = []\n",
    "nums = open(\"puzzle18.txt\").read().split(\"\\n\")\n",
    "for i1 in range(len(nums)):\n",
    "    for i2 in range(i1, len(nums)):\n",
    "        sum1 = adds(nums[i1], nums[i2])\n",
    "        sum2 = adds(nums[i2], nums[i1])\n",
    "        red1 = reduces(sum1)\n",
    "        red2 = reduces(sum2)\n",
    "        sumMags += [magnitudes(red1), magnitudes(red2)]\n",
    "print(\"Maximum magnitude: \", max(sumMags))"
   ]
  },
  {
   "cell_type": "code",
   "execution_count": null,
   "metadata": {},
   "outputs": [],
   "source": []
  }
 ],
 "metadata": {
  "interpreter": {
   "hash": "aee8b7b246df8f9039afb4144a1f6fd8d2ca17a180786b69acc140d282b71a49"
  },
  "kernelspec": {
   "display_name": "Python 3.10.0 64-bit",
   "language": "python",
   "name": "python3"
  },
  "language_info": {
   "codemirror_mode": {
    "name": "ipython",
    "version": 3
   },
   "file_extension": ".py",
   "mimetype": "text/x-python",
   "name": "python",
   "nbconvert_exporter": "python",
   "pygments_lexer": "ipython3",
   "version": "3.10.0"
  },
  "orig_nbformat": 4
 },
 "nbformat": 4,
 "nbformat_minor": 2
}
