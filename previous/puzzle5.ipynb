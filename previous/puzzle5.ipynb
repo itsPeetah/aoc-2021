{
 "cells": [
  {
   "cell_type": "code",
   "execution_count": 2,
   "metadata": {},
   "outputs": [],
   "source": [
    "from PIL import Image, ImageDraw"
   ]
  },
  {
   "cell_type": "code",
   "execution_count": 3,
   "metadata": {},
   "outputs": [],
   "source": [
    "allLines = list(map(lambda x: (tuple(map(int,x[0].split(','))), tuple(map(int,x[1].split(',')))), [line.strip().split(' -> ') for line in open(\"puzzle5.txt\")]))\n",
    "hvLines = [line for line in allLines if line[0][0] == line[1][0] or line[0][1] == line[1][1]]"
   ]
  },
  {
   "cell_type": "code",
   "execution_count": 4,
   "metadata": {},
   "outputs": [],
   "source": [
    "xMax =-10000\n",
    "yMax =-10000\n",
    "for line in hvLines:\n",
    "    if max(line[0][0], line[1][0]) > xMax: xMax = max(line[0][0], line[1][0])\n",
    "    if max(line[0][1], line[1][1]) > yMax: yMax = max(line[0][1], line[1][1])"
   ]
  },
  {
   "cell_type": "code",
   "execution_count": 6,
   "metadata": {},
   "outputs": [
    {
     "name": "stdout",
     "output_type": "stream",
     "text": [
      "There are 4655 points where multiple horizontal and vertical lines overlap.\n"
     ]
    }
   ],
   "source": [
    "board1 = Image.new(mode = \"RGBA\", size = (xMax, yMax), color=(0,0,0,0))\n",
    "\n",
    "for line in hvLines:\n",
    "    temp = Image.new(mode=\"RGBA\", size = (xMax, yMax), color=(0,0,0,0))\n",
    "    draw = ImageDraw.Draw(temp)\n",
    "    draw.line(line[0] + line[1], fill = (255, 255, 255, 10))\n",
    "    board1 = Image.alpha_composite(board1, temp)\n",
    "\n",
    "alpha = [p[3] for p in board1.getdata()]\n",
    "multiple = [a for a in alpha if a > 10]\n",
    "\n",
    "print(\"There are\", len(multiple), \"points where multiple horizontal and vertical lines overlap.\")\n"
   ]
  },
  {
   "cell_type": "code",
   "execution_count": 7,
   "metadata": {},
   "outputs": [
    {
     "name": "stdout",
     "output_type": "stream",
     "text": [
      "There are 20500 points where multiple lines overlap.\n"
     ]
    }
   ],
   "source": [
    "board2 = Image.new(mode = \"RGBA\", size = (xMax, yMax), color=(0,0,0,0))\n",
    "\n",
    "for line in allLines:\n",
    "    temp = Image.new(mode=\"RGBA\", size = (xMax, yMax), color=(0,0,0,0))\n",
    "    draw = ImageDraw.Draw(temp)\n",
    "    draw.line(line[0] + line[1], fill = (255, 255, 255, 10))\n",
    "    board2 = Image.alpha_composite(board2, temp)\n",
    "\n",
    "alpha = [p[3] for p in board2.getdata()]\n",
    "multiple = [a for a in alpha if a > 10]\n",
    "print(\"There are\", len(multiple), \"points where multiple lines overlap.\")"
   ]
  },
  {
   "cell_type": "code",
   "execution_count": 8,
   "metadata": {},
   "outputs": [],
   "source": [
    "board1.save(\"board1.png\")\n",
    "board2.save(\"board2.png\")"
   ]
  },
  {
   "cell_type": "code",
   "execution_count": null,
   "metadata": {},
   "outputs": [],
   "source": []
  }
 ],
 "metadata": {
  "interpreter": {
   "hash": "aee8b7b246df8f9039afb4144a1f6fd8d2ca17a180786b69acc140d282b71a49"
  },
  "kernelspec": {
   "display_name": "Python 3.10.0 64-bit",
   "language": "python",
   "name": "python3"
  },
  "language_info": {
   "codemirror_mode": {
    "name": "ipython",
    "version": 3
   },
   "file_extension": ".py",
   "mimetype": "text/x-python",
   "name": "python",
   "nbconvert_exporter": "python",
   "pygments_lexer": "ipython3",
   "version": "3.10.0"
  },
  "orig_nbformat": 4
 },
 "nbformat": 4,
 "nbformat_minor": 2
}
