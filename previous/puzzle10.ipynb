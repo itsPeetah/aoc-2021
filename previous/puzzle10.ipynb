{
 "cells": [
  {
   "cell_type": "code",
   "execution_count": 34,
   "metadata": {},
   "outputs": [],
   "source": [
    "closing_table = { \"(\":\")\", \"[\":\"]\", \"{\":\"}\", \"<\":\">\"}\n",
    "lines = open(\"puzzle10.txt\").read().split('\\n')"
   ]
  },
  {
   "cell_type": "code",
   "execution_count": 35,
   "metadata": {},
   "outputs": [
    {
     "name": "stdout",
     "output_type": "stream",
     "text": [
      "367227\n"
     ]
    }
   ],
   "source": [
    "# Part 1\n",
    "score_table = {\")\":3,\"]\":57,\"}\":1197,\">\":25137}\n",
    "\n",
    "score = 0\n",
    "for line in lines:\n",
    "    opening_stack = []\n",
    "    for character in line:\n",
    "        if character in closing_table:\n",
    "            opening_stack.append(character)\n",
    "        elif character != closing_table[opening_stack.pop()]:\n",
    "            score += score_table[character]\n",
    "            break\n",
    "print(score)\n",
    "            \n",
    "            "
   ]
  },
  {
   "cell_type": "code",
   "execution_count": 36,
   "metadata": {},
   "outputs": [
    {
     "name": "stdout",
     "output_type": "stream",
     "text": [
      "3583341858\n"
     ]
    }
   ],
   "source": [
    "# Part 2\n",
    "\n",
    "score_table = {\")\":1,\"]\":2,\"}\":3,\">\":4}\n",
    "scores = []\n",
    "for line in lines:\n",
    "    score = 0\n",
    "    opening_stack = []\n",
    "    corrupted = False\n",
    "    for character in line:\n",
    "        if character in closing_table:\n",
    "            opening_stack.append(character)\n",
    "        elif character != closing_table[opening_stack.pop()]:\n",
    "            corrupted = True\n",
    "            break\n",
    "    if corrupted: continue\n",
    "    while len(opening_stack) > 0:\n",
    "        score = (score * 5) + score_table[ closing_table[opening_stack.pop()] ]\n",
    "    \n",
    "    scores.append(score)\n",
    "\n",
    "scores.sort()\n",
    "print(scores[(len(scores) // 2)])\n",
    "            \n",
    "            "
   ]
  }
 ],
 "metadata": {
  "interpreter": {
   "hash": "aee8b7b246df8f9039afb4144a1f6fd8d2ca17a180786b69acc140d282b71a49"
  },
  "kernelspec": {
   "display_name": "Python 3.10.0 64-bit",
   "language": "python",
   "name": "python3"
  },
  "language_info": {
   "codemirror_mode": {
    "name": "ipython",
    "version": 3
   },
   "file_extension": ".py",
   "mimetype": "text/x-python",
   "name": "python",
   "nbconvert_exporter": "python",
   "pygments_lexer": "ipython3",
   "version": "3.10.0"
  },
  "orig_nbformat": 4
 },
 "nbformat": 4,
 "nbformat_minor": 2
}
