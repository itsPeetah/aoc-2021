{
 "cells": [
  {
   "cell_type": "code",
   "execution_count": 14,
   "metadata": {},
   "outputs": [],
   "source": [
    "import numpy as np\n",
    "fish = list(map(int, open(\"puzzle6.txt\", \"r\").readline().split(',')))\n",
    "# fish = np.array(fish)"
   ]
  },
  {
   "cell_type": "code",
   "execution_count": 13,
   "metadata": {},
   "outputs": [
    {
     "name": "stdout",
     "output_type": "stream",
     "text": [
      "372300\n"
     ]
    }
   ],
   "source": [
    "for d in range(80):\n",
    "    toadd = 0\n",
    "    for i in range(len(fish)):\n",
    "        if fish[i] < 1:\n",
    "            toadd += 1\n",
    "            fish[i] = 7\n",
    "        fish[i] -= 1\n",
    "    for i in range(toadd):\n",
    "        fish.append(8)\n",
    "print(len(fish))"
   ]
  },
  {
   "cell_type": "code",
   "execution_count": 53,
   "metadata": {},
   "outputs": [
    {
     "data": {
      "text/plain": [
       "[0, 155, 31, 33, 38, 43, 0, 0, 0]"
      ]
     },
     "execution_count": 53,
     "metadata": {},
     "output_type": "execute_result"
    }
   ],
   "source": [
    "fish_data = sorted(list(map(int, open(\"puzzle6.txt\", \"r\").readline().split(','))))\n",
    "fish = [0 for _ in range(9)]\n",
    "for f in fish_data: fish[f] += 1\n",
    "fish"
   ]
  },
  {
   "cell_type": "code",
   "execution_count": 37,
   "metadata": {},
   "outputs": [
    {
     "name": "stdout",
     "output_type": "stream",
     "text": [
      "[155, 31, 33, 38, 43, 0, 43, 0, 0]\n"
     ]
    }
   ],
   "source": [
    "days = 80\n",
    "for d in range(days):\n",
    "    for i in range(len(fish) - 1):\n",
    "        if i < 1:\n",
    "            fish[6] = fish[0]\n",
    "            fish[8] = fish[0]\n",
    "        fish[i] = fish[i+1]\n",
    "\n",
    "print(fish)\n"
   ]
  },
  {
   "cell_type": "code",
   "execution_count": 66,
   "metadata": {},
   "outputs": [
    {
     "name": "stdout",
     "output_type": "stream",
     "text": [
      "1675781200288\n"
     ]
    }
   ],
   "source": [
    "fish_data = sorted(list(map(int, open(\"puzzle6.txt\", \"r\").readline().split(','))))\n",
    "fish = [0 for _ in range(9)]\n",
    "for f in fish_data: fish[f] += 1\n",
    "\n",
    "for x in range(256):\n",
    "    carry = fish[0]\n",
    "    fish[7] += carry\n",
    "    for i in range(len(fish) - 1):\n",
    "        fish[i] = fish[i+1]\n",
    "    fish[8] = carry\n",
    "print(sum(fish))\n",
    "    "
   ]
  },
  {
   "cell_type": "code",
   "execution_count": null,
   "metadata": {},
   "outputs": [],
   "source": []
  },
  {
   "cell_type": "code",
   "execution_count": null,
   "metadata": {},
   "outputs": [],
   "source": []
  }
 ],
 "metadata": {
  "interpreter": {
   "hash": "aee8b7b246df8f9039afb4144a1f6fd8d2ca17a180786b69acc140d282b71a49"
  },
  "kernelspec": {
   "display_name": "Python 3.7.0 64-bit",
   "name": "python3"
  },
  "language_info": {
   "codemirror_mode": {
    "name": "ipython",
    "version": 3
   },
   "file_extension": ".py",
   "mimetype": "text/x-python",
   "name": "python",
   "nbconvert_exporter": "python",
   "pygments_lexer": "ipython3",
   "version": "3.7.0"
  },
  "orig_nbformat": 4
 },
 "nbformat": 4,
 "nbformat_minor": 2
}
