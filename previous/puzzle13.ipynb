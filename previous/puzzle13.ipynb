{
 "cells": [
  {
   "cell_type": "code",
   "execution_count": 146,
   "metadata": {},
   "outputs": [],
   "source": [
    "def debugToFile(pointCoords, fold=None, filename=\"output.txt\", mode=\"a\", pointChar=\"#\", spaceChar=\".\", sep=\"\\n\\n\\n\"):\n",
    "    file = open(filename, mode)\n",
    "    maxCol = max([pointCoords[i][0] for i in range(len(pointCoords))])\n",
    "    maxRow = max([pointCoords[i][1] for i in range(len(pointCoords))])\n",
    "    for row in range(maxRow + 1):\n",
    "        for col in range(maxCol + 1):\n",
    "            if fold and fold[0] == \"y\" and row == folds[0][1]: file.write(\"-\")\n",
    "            elif fold and fold[0] == \"x\" and col == folds[1][1]: file.write(\"|\")\n",
    "            elif (col, row) in pointCoords: file.write(pointChar)\n",
    "            else: file.write(spaceChar)\n",
    "        file.write(\"\\n\")\n",
    "    file.write(sep)\n",
    "    file.close()\n",
    "\n",
    "def debugToStdout(pointCoords, fold=None, pointChar=\"#\", spaceChar=\".\", end=\"\\n\"):\n",
    "    maxCol = max([pointCoords[i][0] for i in range(len(pointCoords))])\n",
    "    maxRow = max([pointCoords[i][1] for i in range(len(pointCoords))])\n",
    "    for row in range(maxRow + 1):\n",
    "        for col in range(maxCol + 1):\n",
    "            if fold and fold[0] == \"y\" and row == folds[0][1]: print(\"-\",end=\"\")\n",
    "            elif fold and fold[0] == \"x\" and col == folds[1][1]: print(\"|\",end=\"\")\n",
    "            elif (col, row) in pointCoords: print(pointChar,end=\"\")\n",
    "            else: print(spaceChar,end=\"\")\n",
    "        print(\"\")\n",
    "    print(end)"
   ]
  },
  {
   "cell_type": "code",
   "execution_count": 162,
   "metadata": {},
   "outputs": [
    {
     "name": "stdout",
     "output_type": "stream",
     "text": [
      "After a fold there are 770 points remaining.\n",
      "After a fold there are 649 points remaining.\n",
      "After a fold there are 549 points remaining.\n",
      "After a fold there are 455 points remaining.\n",
      "After a fold there are 375 points remaining.\n",
      "After a fold there are 318 points remaining.\n",
      "After a fold there are 251 points remaining.\n",
      "After a fold there are 209 points remaining.\n",
      "After a fold there are 174 points remaining.\n",
      "After a fold there are 143 points remaining.\n",
      "After a fold there are 117 points remaining.\n",
      "After a fold there are 102 points remaining.\n",
      "#### ###  #  # #### #    ###  ###  ### \n",
      "#    #  # #  # #    #    #  # #  # #  #\n",
      "###  #  # #  # ###  #    #  # ###  #  #\n",
      "#    ###  #  # #    #    ###  #  # ### \n",
      "#    #    #  # #    #    #    #  # # # \n",
      "#### #     ##  #### #### #    ###  #  #\n",
      "\n"
     ]
    }
   ],
   "source": [
    "lines = open(\"puzzle13.txt\").read().split(\"\\n\")\n",
    "points = [tuple(map(int,line.split(','))) for line in lines if len(line) > 0 and not \" \" in line]\n",
    "folds =[(fold[0], int(fold[1])) for fold in [tuple(line.split(\" along \")[1].split(\"=\")) for line in lines if \" \" in line]]\n",
    "\n",
    "for axis, level in folds:\n",
    "    # debugToFile(points, (axis, level))\n",
    "    foldRow = axis == 'y'\n",
    "    newPoints = []\n",
    "    for (col, row) in points:\n",
    "        movePoint = (row if foldRow else col) > level\n",
    "        if movePoint:\n",
    "            newCol = col if foldRow else (col + 2 * (level - col))\n",
    "            newRow = row if not foldRow else (row + 2 * (level - row))\n",
    "            newPoints.append((newCol, newRow))\n",
    "        else:\n",
    "            newPoints.append((col, row))\n",
    "    # debugToFile(newPoints, (axis, level))\n",
    "    points = sorted(list(set(newPoints)))\n",
    "    print(f\"After a fold there are {len(points)} points remaining.\")\n",
    "\n",
    "# debugToFile(points,spaceChar=\" \", mode=\"w\", filename=\"final.txt\")\n",
    "debugToStdout(points, spaceChar=\" \", end=\"\")\n",
    "# print(\"Done\")\n",
    "    "
   ]
  },
  {
   "cell_type": "code",
   "execution_count": 156,
   "metadata": {},
   "outputs": [],
   "source": [
    "# https://www.reddit.com/r/adventofcode/comments/rfeuic/2021_day_13_part_25_what_if_it_would_be_more/\n",
    "lines = open(\"puzzle13_extra.txt\").read().split(\"\\n\")\n",
    "points = [tuple(map(int,line.split(','))) for line in lines if len(line) > 0 and not \" \" in line]\n",
    "folds =[(fold[0], int(fold[1])) for fold in [tuple(line.split(\" along \")[1].split(\"=\")) for line in lines if \" \" in line]]\n",
    "\n",
    "\n",
    "for axis, level in folds:\n",
    "    foldRow = axis == 'y'\n",
    "    newPoints = []\n",
    "    for (col, row) in points:\n",
    "        movePoint = (row if foldRow else col) > level\n",
    "        if movePoint:\n",
    "            newCol = col if foldRow else (col + 2 * (level - col))\n",
    "            newRow = row if not foldRow else (row + 2 * (level - row))\n",
    "            newPoints.append((newCol, newRow))\n",
    "        else:\n",
    "            newPoints.append((col, row))\n",
    "    points = list(set(newPoints))\n",
    "\n",
    "# debugToFile(points,spaceChar=\" \", mode=\"w\", filename=\"nevergonnagiveyouup.txt\")\n",
    "    "
   ]
  },
  {
   "cell_type": "code",
   "execution_count": null,
   "metadata": {},
   "outputs": [],
   "source": []
  }
 ],
 "metadata": {
  "interpreter": {
   "hash": "aee8b7b246df8f9039afb4144a1f6fd8d2ca17a180786b69acc140d282b71a49"
  },
  "kernelspec": {
   "display_name": "Python 3.10.0 64-bit",
   "language": "python",
   "name": "python3"
  },
  "language_info": {
   "codemirror_mode": {
    "name": "ipython",
    "version": 3
   },
   "file_extension": ".py",
   "mimetype": "text/x-python",
   "name": "python",
   "nbconvert_exporter": "python",
   "pygments_lexer": "ipython3",
   "version": "3.10.0"
  },
  "orig_nbformat": 4
 },
 "nbformat": 4,
 "nbformat_minor": 2
}
