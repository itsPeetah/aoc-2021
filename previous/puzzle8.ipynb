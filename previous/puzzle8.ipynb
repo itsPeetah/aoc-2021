{
 "cells": [
  {
   "cell_type": "code",
   "execution_count": 66,
   "metadata": {},
   "outputs": [],
   "source": [
    "# https://www.reddit.com/r/adventofcode/comments/rbj87a/comment/hnpb67d/?utm_source=share&utm_medium=web2x&context=3\n",
    "rows = [ (line.split('|')[0].split(), line.split('|')[1].split()) for line in open(\"puzzle8.txt\").readlines() ] "
   ]
  },
  {
   "cell_type": "code",
   "execution_count": 67,
   "metadata": {},
   "outputs": [
    {
     "name": "stdout",
     "output_type": "stream",
     "text": [
      "421\n"
     ]
    }
   ],
   "source": [
    "c = 0\n",
    "for i in rows:\n",
    "    for j in i[1]:\n",
    "        if len(j) in [2,3,4,7]:\n",
    "            c+=1\n",
    "print(c)"
   ]
  },
  {
   "cell_type": "code",
   "execution_count": 68,
   "metadata": {},
   "outputs": [],
   "source": [
    "entry = \"fadbg dagecf fea fbecga adce ae bedfcg egacbdf fdgec fdage | dcae caed dbefcg adgfb\"\n",
    "codes = [ \"\".join(sorted(list(c))) for c in entry.split(\"|\")[0].split() ]\n",
    "outputs = [ \"\".join(sorted(list(o))) for o in entry.split(\"|\")[1].split()]"
   ]
  },
  {
   "cell_type": "code",
   "execution_count": 84,
   "metadata": {},
   "outputs": [],
   "source": [
    "def exclude(target, against):\n",
    "    target = list(target)\n",
    "    for c in against:\n",
    "         if c in target: target.remove(c)\n",
    "    return \"\".join(target)\n",
    "\n",
    "def map_codes(codes):\n",
    "\n",
    "    mapped = [\"\" for x in range(10)]\n",
    "\n",
    "    for c in codes:\n",
    "        if len(c) == 2: mapped[1] = c\n",
    "        elif len(c) == 3: mapped[7] = c\n",
    "        elif len(c) == 4: mapped[4] = c\n",
    "        elif len(c) == 7: mapped[8] = c\n",
    "\n",
    "    for c in codes:\n",
    "        if len(c) == 6:\n",
    "            if len(exclude(c, mapped[1])) == 4:\n",
    "                if len(exclude(c, mapped[4])) == 2:\n",
    "                    mapped[9] = c\n",
    "                else: mapped[0] = c\n",
    "            else: mapped[6] = c\n",
    "        \n",
    "    for c in codes:\n",
    "        if len(c) == 5:\n",
    "            if len(exclude(c, mapped[1])) == 3:\n",
    "                mapped[3] = c\n",
    "            else:\n",
    "                if(len(exclude(mapped[6], c))) == 1:\n",
    "                    mapped[5] = c\n",
    "                else: mapped[2] = c\n",
    "\n",
    "\n",
    "    # for c in codes:\n",
    "    #     if len(c) == 5 and len(exclude(c, mapped[7])) == 2:\n",
    "    #         mapped[3] = c\n",
    "    #     elif len(c) == 6 and len(exclude(c, mapped[1])) == 4:\n",
    "    #         mapped[9] = c\n",
    "    #     elif len(c) == 6 and len(exclude(c, mapped[1])) == 4:\n",
    "    #         mapped[0] = c\n",
    "    #     elif len(c) == 5 and len(exclude(c, mapped[4])) == 2 and len(exclude(c, mapped[7])) == 3:\n",
    "    #         mapped[5] = c\n",
    "\n",
    "    # for c in codes:\n",
    "    #     if c not in mapped:\n",
    "    #         if len(c) == 6: mapped[6] = c\n",
    "    #         else: mapped[2] = c\n",
    "    \n",
    "    return mapped"
   ]
  },
  {
   "cell_type": "code",
   "execution_count": 79,
   "metadata": {},
   "outputs": [],
   "source": [
    "def get_output(outputs, mapped):\n",
    "    values = []\n",
    "    for v in outputs:\n",
    "        values.append(str(mapped.index(v)))\n",
    "    return \"\".join(values)\n",
    "        "
   ]
  },
  {
   "cell_type": "code",
   "execution_count": 87,
   "metadata": {},
   "outputs": [
    {
     "data": {
      "text/plain": [
       "'9189'"
      ]
     },
     "execution_count": 87,
     "metadata": {},
     "output_type": "execute_result"
    }
   ],
   "source": [
    "get_output(outputs, map_codes(codes))"
   ]
  },
  {
   "cell_type": "code",
   "execution_count": 89,
   "metadata": {},
   "outputs": [
    {
     "name": "stdout",
     "output_type": "stream",
     "text": [
      "4037\n",
      "0341\n",
      "4315\n",
      "0874\n",
      "4782\n",
      "9788\n",
      "5951\n",
      "8076\n",
      "7039\n",
      "1457\n",
      "5225\n",
      "7518\n",
      "1411\n",
      "1844\n",
      "6986\n",
      "7117\n",
      "4891\n",
      "1683\n",
      "7941\n",
      "9437\n",
      "3471\n",
      "5509\n",
      "8427\n",
      "1128\n",
      "8794\n",
      "1479\n",
      "1035\n",
      "3474\n",
      "4454\n",
      "5025\n",
      "2568\n",
      "1613\n",
      "7007\n",
      "5822\n",
      "7218\n",
      "7699\n",
      "9488\n",
      "4865\n",
      "1739\n",
      "3443\n",
      "4353\n",
      "4371\n",
      "7507\n",
      "7245\n",
      "0995\n",
      "7089\n",
      "1831\n",
      "1377\n",
      "7860\n",
      "1146\n",
      "5140\n",
      "3136\n",
      "7190\n",
      "4940\n",
      "8611\n",
      "6609\n",
      "4674\n",
      "1831\n",
      "1832\n",
      "9647\n",
      "4985\n",
      "3596\n",
      "8985\n",
      "5125\n",
      "2183\n",
      "1148\n",
      "4568\n",
      "6650\n",
      "3776\n",
      "2257\n",
      "3756\n",
      "2030\n",
      "3177\n",
      "1481\n",
      "3732\n",
      "9727\n",
      "0902\n",
      "8181\n",
      "3561\n",
      "8605\n",
      "8966\n",
      "3041\n",
      "6978\n",
      "0682\n",
      "0120\n",
      "9434\n",
      "2555\n",
      "8444\n",
      "7824\n",
      "4706\n",
      "8114\n",
      "7445\n",
      "6398\n",
      "9802\n",
      "4233\n",
      "8448\n",
      "7013\n",
      "1140\n",
      "4282\n",
      "0434\n",
      "1943\n",
      "2847\n",
      "9657\n",
      "3712\n",
      "4457\n",
      "4747\n",
      "7723\n",
      "8250\n",
      "2818\n",
      "3898\n",
      "8439\n",
      "4888\n",
      "1588\n",
      "1638\n",
      "7709\n",
      "7975\n",
      "1931\n",
      "5430\n",
      "3863\n",
      "8897\n",
      "4288\n",
      "1772\n",
      "8480\n",
      "8433\n",
      "1745\n",
      "4106\n",
      "1011\n",
      "0184\n",
      "9184\n",
      "6510\n",
      "3768\n",
      "3092\n",
      "3311\n",
      "4085\n",
      "4357\n",
      "7168\n",
      "8781\n",
      "7280\n",
      "4124\n",
      "8694\n",
      "2086\n",
      "1014\n",
      "7931\n",
      "9356\n",
      "9231\n",
      "4770\n",
      "9751\n",
      "2420\n",
      "3411\n",
      "3622\n",
      "8457\n",
      "2132\n",
      "1693\n",
      "1306\n",
      "8273\n",
      "3157\n",
      "9887\n",
      "1688\n",
      "4512\n",
      "0983\n",
      "0998\n",
      "8598\n",
      "4526\n",
      "4393\n",
      "6111\n",
      "1649\n",
      "5571\n",
      "1873\n",
      "1877\n",
      "9886\n",
      "7638\n",
      "2961\n",
      "0493\n",
      "8257\n",
      "3298\n",
      "7415\n",
      "4462\n",
      "8879\n",
      "7678\n",
      "2877\n",
      "2454\n",
      "2288\n",
      "8118\n",
      "5179\n",
      "9848\n",
      "5791\n",
      "0442\n",
      "5307\n",
      "4524\n",
      "1147\n",
      "9345\n",
      "6871\n",
      "1710\n",
      "1164\n",
      "0154\n",
      "5154\n",
      "1899\n",
      "8107\n",
      "8730\n",
      "9189\n"
     ]
    }
   ],
   "source": [
    "sum = 0\n",
    "for row in rows:\n",
    "\n",
    "    codes = [ \"\".join(sorted(list(word))) for word in row[0] ]\n",
    "    outputs = [ \"\".join(sorted(list(word))) for word in row[1]] \n",
    "    \n",
    "    m = map_codes(codes)\n",
    "    i = get_output(outputs, m)\n",
    "    print(i)\n",
    "    sum += int(i)"
   ]
  },
  {
   "cell_type": "code",
   "execution_count": 90,
   "metadata": {},
   "outputs": [
    {
     "data": {
      "text/plain": [
       "986163"
      ]
     },
     "execution_count": 90,
     "metadata": {},
     "output_type": "execute_result"
    }
   ],
   "source": [
    "sum"
   ]
  },
  {
   "cell_type": "code",
   "execution_count": 64,
   "metadata": {},
   "outputs": [
    {
     "data": {
      "text/plain": [
       "['abcdeg',\n",
       " 'ab',\n",
       " 'acdfg',\n",
       " 'abcdf',\n",
       " 'abef',\n",
       " 'bcdef',\n",
       " 'bcdefg',\n",
       " 'abd',\n",
       " 'abcdefg',\n",
       " 'abcdef']"
      ]
     },
     "execution_count": 64,
     "metadata": {},
     "output_type": "execute_result"
    }
   ],
   "source": [
    "map_codes(codes)"
   ]
  },
  {
   "cell_type": "code",
   "execution_count": 65,
   "metadata": {},
   "outputs": [
    {
     "data": {
      "text/plain": [
       "'5353'"
      ]
     },
     "execution_count": 65,
     "metadata": {},
     "output_type": "execute_result"
    }
   ],
   "source": [
    "get_output(outputs, map_codes(codes))"
   ]
  },
  {
   "cell_type": "code",
   "execution_count": null,
   "metadata": {},
   "outputs": [],
   "source": []
  }
 ],
 "metadata": {
  "interpreter": {
   "hash": "aee8b7b246df8f9039afb4144a1f6fd8d2ca17a180786b69acc140d282b71a49"
  },
  "kernelspec": {
   "display_name": "Python 3.7.0 64-bit",
   "language": "python",
   "name": "python3"
  },
  "language_info": {
   "codemirror_mode": {
    "name": "ipython",
    "version": 3
   },
   "file_extension": ".py",
   "mimetype": "text/x-python",
   "name": "python",
   "nbconvert_exporter": "python",
   "pygments_lexer": "ipython3",
   "version": "3.7.0"
  },
  "orig_nbformat": 4
 },
 "nbformat": 4,
 "nbformat_minor": 2
}
