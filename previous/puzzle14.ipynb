{
 "cells": [
  {
   "cell_type": "code",
   "execution_count": 135,
   "metadata": {},
   "outputs": [],
   "source": [
    "# P1: 251749 too high\n",
    "\n",
    "polyBase = \"\"\n",
    "rules = {}\n",
    "with open(\"puzzle14.txt\") as file:\n",
    "    for i, l in enumerate(file.read().split(\"\\n\")):\n",
    "        if i == 0: polyBase = l\n",
    "        elif i == 1: continue\n",
    "        else:\n",
    "            rules[l[:2]] = l[-1:]\n"
   ]
  },
  {
   "cell_type": "code",
   "execution_count": 140,
   "metadata": {},
   "outputs": [
    {
     "name": "stdout",
     "output_type": "stream",
     "text": [
      "The solution to part 1 is: 5656\n"
     ]
    }
   ],
   "source": [
    "polymer = polyBase\n",
    "for step in range(10):\n",
    "    newPolymer = polymer[0]\n",
    "    for i in range(len(polymer) - 1):\n",
    "        if polymer[i:i+2] in rules:\n",
    "            newPolymer += rules[polymer[i:i+2]] + polymer[i+1]\n",
    "    polymer = newPolymer\n",
    "\n",
    "# print(polyBase)\n",
    "# print(polymer)\n",
    "\n",
    "occurrences = {}\n",
    "for element in polymer:\n",
    "    if element in occurrences: occurrences[element] += 1\n",
    "    else: occurrences[element] = 1\n",
    "occurrences = sorted([(k,v) for k,v in occurrences.items()], key=lambda x: x[1])\n",
    "print(\"The solution to part 1 is:\", occurrences[-1][1] - occurrences[0][1])"
   ]
  },
  {
   "cell_type": "code",
   "execution_count": 141,
   "metadata": {},
   "outputs": [],
   "source": [
    "op1 = [('B', 1115), ('C', 1699), ('F', 6487), ('H', 831), ('K', 860), ('N', 1861), ('O', 884), ('P', 3303), ('S', 1032), ('V', 1385)]\n",
    "op1_s = [('H', 831), ('K', 860), ('O', 884), ('S', 1032), ('B', 1115), ('V', 1385), ('C', 1699), ('N', 1861), ('P', 3303), ('F', 6487)]"
   ]
  },
  {
   "cell_type": "code",
   "execution_count": 158,
   "metadata": {},
   "outputs": [
    {
     "name": "stdout",
     "output_type": "stream",
     "text": [
      "The final polymer has length: 20890720927745\n",
      "The solution to part 2 is: 12271437788530\n"
     ]
    }
   ],
   "source": [
    "pairs = {}\n",
    "for i in range(len(polyBase) - 1):\n",
    "    if polyBase[i:i+2] in pairs: pairs[polyBase[i:i+2]] += 1\n",
    "    else: pairs[polyBase[i:i+2]] = 1\n",
    "occurrences = {}\n",
    "for element in polyBase:\n",
    "    if element in occurrences: occurrences[element] += 1\n",
    "    else: occurrences[element] = 1\n",
    "\n",
    "for step in range(40):\n",
    "    newPairs = {}\n",
    "    newOccurrences = {}\n",
    "    firstPair = True\n",
    "    for k, v in pairs.items():\n",
    "        inserted = rules[k]\n",
    "        # Add first new pair\n",
    "        k1 = k[0] + inserted\n",
    "        if k1 in newPairs: newPairs[k1] += v\n",
    "        else: newPairs[k1] = v\n",
    "        # Add second new pair\n",
    "        k2 = inserted + k[1] # Mistake due to me being an idiot and adding the new pair as k[1] + inserted\n",
    "        if k2 in newPairs: newPairs[k2] += v\n",
    "        else: newPairs[k2] = v\n",
    "        # Count new occurrences\n",
    "        if inserted in occurrences: occurrences[inserted] += v\n",
    "        else: occurrences[inserted] = v\n",
    "    pairs = newPairs\n",
    "\n",
    "print(\"The final polymer has length:\", sum([v for _, v in occurrences.items()]))\n",
    "occurrences = sorted([(k,v) for k,v in occurrences.items()], key=lambda x: x[1])\n",
    "print(\"The solution to part 2 is:\", occurrences[-1][1] - occurrences[0][1])"
   ]
  },
  {
   "cell_type": "code",
   "execution_count": null,
   "metadata": {},
   "outputs": [],
   "source": []
  }
 ],
 "metadata": {
  "interpreter": {
   "hash": "aee8b7b246df8f9039afb4144a1f6fd8d2ca17a180786b69acc140d282b71a49"
  },
  "kernelspec": {
   "display_name": "Python 3.10.0 64-bit",
   "language": "python",
   "name": "python3"
  },
  "language_info": {
   "codemirror_mode": {
    "name": "ipython",
    "version": 3
   },
   "file_extension": ".py",
   "mimetype": "text/x-python",
   "name": "python",
   "nbconvert_exporter": "python",
   "pygments_lexer": "ipython3",
   "version": "3.10.0"
  },
  "orig_nbformat": 4
 },
 "nbformat": 4,
 "nbformat_minor": 2
}
