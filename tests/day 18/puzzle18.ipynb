{
 "cells": [
  {
   "cell_type": "code",
   "execution_count": 3,
   "metadata": {},
   "outputs": [],
   "source": [
    "import ast\n",
    "import string"
   ]
  },
  {
   "cell_type": "code",
   "execution_count": 127,
   "metadata": {},
   "outputs": [],
   "source": [
    "def adds(a, b):\n",
    "    return f\"[{a},{b}]\"\n",
    "    \n",
    "def reduces(a):\n",
    "    # print(\"Reducing:\", a)\n",
    "    while True:\n",
    "        a, r = explodes(a)\n",
    "        if r: pass # print(\"Exploded:\", a)\n",
    "        else:\n",
    "            a, r = splits(a)\n",
    "            if r: pass # print(\"Reduced:\", a)\n",
    "            else: break\n",
    "    return a\n"
   ]
  },
  {
   "cell_type": "code",
   "execution_count": 128,
   "metadata": {},
   "outputs": [],
   "source": [
    "def splits(a):\n",
    "    tosplit = a\n",
    "    cursor = 0\n",
    "    while cursor < len(tosplit):\n",
    "        if tosplit[cursor] in string.digits and tosplit[cursor + 1] in string.digits:\n",
    "            n = int(tosplit[cursor: cursor + 2])\n",
    "            l,r = n // 2, n // 2 + n % 2\n",
    "            tosplit = tosplit[:cursor] + str([l, r]).replace(\" \", \"\") + tosplit[cursor + 2:]\n",
    "            return tosplit, True\n",
    "        cursor += 1\n",
    "    return tosplit, False"
   ]
  },
  {
   "cell_type": "code",
   "execution_count": 129,
   "metadata": {},
   "outputs": [],
   "source": [
    "def explodes(a : str):\n",
    "    nested = a\n",
    "    cursor = 0\n",
    "    depth = 0\n",
    "\n",
    "    def findFirstClosingBracketFrom(start: int):\n",
    "        return nested[start:].find(\"]\") + start\n",
    "    def getPairToExplode(start: int, end: int):\n",
    "            pair = nested[start + 1:end].split(\",\")\n",
    "            return int(pair[0]), int(pair[1])\n",
    "    def getFirstLeftNumberBounds(_from: int):\n",
    "        lc = _from\n",
    "        while lc > 1:\n",
    "            if nested[lc] in string.digits:\n",
    "                if nested[lc - 1] in string.digits:\n",
    "                    return lc - 1, lc + 1\n",
    "                return lc, lc + 1\n",
    "            lc -= 1\n",
    "        return -1, -1\n",
    "    def getFirstRightNumberBounds(_from : int):\n",
    "        rc = _from\n",
    "        while rc < len(nested) - 1:\n",
    "            if nested[rc] in string.digits:\n",
    "                if nested[rc + 1] in string.digits:\n",
    "                    return rc, rc + 2\n",
    "                return rc, rc + 1\n",
    "            rc += 1\n",
    "        return -1, -1\n",
    "            \n",
    "\n",
    "    while cursor < len(nested):\n",
    "        c = nested[cursor]\n",
    "        if c == \"[\": depth += 1\n",
    "        elif c == \"]\": depth -= 1\n",
    "\n",
    "        if depth == 5:\n",
    "            firstClosingBracket = findFirstClosingBracketFrom(cursor)\n",
    "            l, r = getPairToExplode(cursor, firstClosingBracket)\n",
    "            lmin, lmax = getFirstLeftNumberBounds(cursor)\n",
    "            rmin, rmax = getFirstRightNumberBounds(firstClosingBracket)\n",
    "            if rmin != -1:\n",
    "                rn = int(nested[rmin:rmax]) + r\n",
    "                nested = nested[:rmin] + str(rn) + nested[rmax:]\n",
    "            nested = nested[:cursor] + '0' + nested[firstClosingBracket + 1:]\n",
    "            if lmin != -1:\n",
    "                ln = int(nested[lmin:lmax]) + l\n",
    "                nested = nested[:lmin] + str(ln) + nested[lmax:]\n",
    "            return nested, True\n",
    "        cursor+=1\n",
    "    return nested, False\n"
   ]
  },
  {
   "cell_type": "code",
   "execution_count": 130,
   "metadata": {},
   "outputs": [
    {
     "data": {
      "text/plain": [
       "('[[[[0,9],2],3],4]',\n",
       " '[7,[6,[5,[7,0]]]]',\n",
       " '[[6,[5,[7,0]]],3]',\n",
       " '[[3,[2,[8,0]]],[9,[5,[4,[3,2]]]]]',\n",
       " '[[3,[2,[8,0]]],[9,[5,[7,0]]]]')"
      ]
     },
     "execution_count": 130,
     "metadata": {},
     "output_type": "execute_result"
    }
   ],
   "source": [
    "a = explodes(\"[[[[[9,8],1],2],3],4]\") # right only\n",
    "b = explodes(\"[7,[6,[5,[4,[3,2]]]]]\") # left only\n",
    "c = explodes(\"[[6,[5,[4,[3,2]]]],1]\") # both ways\n",
    "d = explodes(\"[[3,[2,[1,[7,3]]]],[6,[5,[4,[3,2]]]]]\") # [3,2] unaffected\n",
    "e = explodes(\"[[3,[2,[8,0]]],[9,[5,[4,[3,2]]]]]\")\n",
    "a[0], b[0], c[0], d[0], e[0]"
   ]
  },
  {
   "cell_type": "code",
   "execution_count": 131,
   "metadata": {},
   "outputs": [],
   "source": [
    "x, y = \"[[[[4,3],4],4],[7,[[8,4],9]]]\", \"[1,1]\"\n",
    "z = adds(x, y)\n",
    "res = \"[[[[0,7],4],[[7,8],[6,0]]],[8,1]]\".replace(\" \", \"\")"
   ]
  },
  {
   "cell_type": "code",
   "execution_count": 132,
   "metadata": {},
   "outputs": [
    {
     "data": {
      "text/plain": [
       "('[[[[0,7],4],[[7,8],[6,0]]],[8,1]]', True)"
      ]
     },
     "execution_count": 132,
     "metadata": {},
     "output_type": "execute_result"
    }
   ],
   "source": [
    "reduces(z), res == reduces(z)"
   ]
  },
  {
   "cell_type": "code",
   "execution_count": 133,
   "metadata": {},
   "outputs": [
    {
     "name": "stdout",
     "output_type": "stream",
     "text": [
      "[[[[8,7],[7,7]],[[8,6],[7,7]]],[[[0,7],[6,6]],[8,7]]]\n"
     ]
    }
   ],
   "source": [
    "nums = open(\"puzzle18_es.txt\").read().split(\"\\n\")\n",
    "r = nums[0]\n",
    "for x in range(1, len(nums)):\n",
    "    r = adds(r, nums[x])\n",
    "    r = reduces(r)\n",
    "print(r)"
   ]
  },
  {
   "cell_type": "code",
   "execution_count": 140,
   "metadata": {},
   "outputs": [],
   "source": [
    "# https://www.reddit.com/r/adventofcode/comments/rj7cgm/comment/hp2fmmn/?utm_source=share&utm_medium=web2x&context=3\n",
    "def magnitudes(a):\n",
    "    l = ast.literal_eval(a)\n",
    "    return magnitude(l)\n",
    "\n",
    "def magnitude(a):\n",
    "    if type(a) == int: return a\n",
    "    else: return 3 * magnitude(a[0]) + 2 * magnitude(a[1])\n",
    "\n",
    "\n"
   ]
  },
  {
   "cell_type": "code",
   "execution_count": 136,
   "metadata": {},
   "outputs": [
    {
     "data": {
      "text/plain": [
       "3488"
      ]
     },
     "execution_count": 136,
     "metadata": {},
     "output_type": "execute_result"
    }
   ],
   "source": [
    "magnitudes(\"[[[[8,7],[7,7]],[[8,6],[7,7]]],[[[0,7],[6,6]],[8,7]]]\")"
   ]
  },
  {
   "cell_type": "code",
   "execution_count": 138,
   "metadata": {},
   "outputs": [
    {
     "name": "stdout",
     "output_type": "stream",
     "text": [
      "Reduced sum result is: [[[[6,6],[0,6]],[[6,6],[7,7]]],[[[7,7],[7,7]],[[7,8],[8,9]]]]\n",
      "Magnitude: 3816\n"
     ]
    }
   ],
   "source": [
    "nums = open(\"puzzle18.txt\").read().split(\"\\n\")\n",
    "res = nums[0]\n",
    "for i in range(1, len(nums)):\n",
    "    res = adds(res, nums[i])\n",
    "    res = reduces(res)\n",
    "mag = magnitudes(res)\n",
    "print(\"Reduced sum result is:\", res)\n",
    "print(\"Magnitude:\", mag)"
   ]
  },
  {
   "cell_type": "code",
   "execution_count": 139,
   "metadata": {},
   "outputs": [
    {
     "name": "stdout",
     "output_type": "stream",
     "text": [
      "Maximum magnitude:  4819\n"
     ]
    }
   ],
   "source": [
    "sumMags = []\n",
    "nums = open(\"puzzle18.txt\").read().split(\"\\n\")\n",
    "for i1 in range(len(nums)):\n",
    "    for i2 in range(i1, len(nums)):\n",
    "        sum1 = adds(nums[i1], nums[i2])\n",
    "        sum2 = adds(nums[i2], nums[i1])\n",
    "        red1 = reduces(sum1)\n",
    "        red2 = reduces(sum2)\n",
    "        sumMags += [magnitudes(red1), magnitudes(red2)]\n",
    "print(\"Maximum magnitude: \", max(sumMags))"
   ]
  },
  {
   "cell_type": "code",
   "execution_count": null,
   "metadata": {},
   "outputs": [],
   "source": []
  }
 ],
 "metadata": {
  "interpreter": {
   "hash": "aee8b7b246df8f9039afb4144a1f6fd8d2ca17a180786b69acc140d282b71a49"
  },
  "kernelspec": {
   "display_name": "Python 3.10.0 64-bit",
   "language": "python",
   "name": "python3"
  },
  "language_info": {
   "codemirror_mode": {
    "name": "ipython",
    "version": 3
   },
   "file_extension": ".py",
   "mimetype": "text/x-python",
   "name": "python",
   "nbconvert_exporter": "python",
   "pygments_lexer": "ipython3",
   "version": "3.10.0"
  },
  "orig_nbformat": 4
 },
 "nbformat": 4,
 "nbformat_minor": 2
}
