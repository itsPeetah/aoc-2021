{
 "cells": [
  {
   "cell_type": "code",
   "execution_count": 3,
   "metadata": {},
   "outputs": [],
   "source": [
    "import ast\n",
    "import string"
   ]
  },
  {
   "cell_type": "code",
   "execution_count": 4,
   "metadata": {},
   "outputs": [],
   "source": [
    "inputLines = open(\"puzzle18.txt\").read().split(\"\\n\")\n",
    "numbers = [ ast.literal_eval(x) for x in inputLines ]"
   ]
  },
  {
   "cell_type": "code",
   "execution_count": 5,
   "metadata": {},
   "outputs": [],
   "source": [
    "def add(a, b):\n",
    "    return [a, b]\n",
    "def split(a):\n",
    "    l = a // 2\n",
    "    r = a // 2 + a % 2\n",
    "    return [l, r]"
   ]
  },
  {
   "cell_type": "code",
   "execution_count": 6,
   "metadata": {},
   "outputs": [],
   "source": [
    "def adds(a, b):\n",
    "    return f\"[{a},{b}]\"\n",
    "def splits(a):\n",
    "    n = int(a)\n",
    "    l = n // 2\n",
    "    r = n // 2 + n % 2\n",
    "    return f\"[{l},{r}]\""
   ]
  },
  {
   "cell_type": "code",
   "execution_count": 7,
   "metadata": {},
   "outputs": [],
   "source": [
    "nested = \"[[[[[5,6], 3]]]]\""
   ]
  },
  {
   "cell_type": "markdown",
   "metadata": {},
   "source": [
    "# Explosion testing"
   ]
  },
  {
   "cell_type": "code",
   "execution_count": 21,
   "metadata": {},
   "outputs": [
    {
     "name": "stdout",
     "output_type": "stream",
     "text": [
      "[[3,[2,[1,[7,3]]]],[7,[5,[4,[3,2]]]]] 37\n",
      "EXPLODING:\n",
      "[[3,[2,[1,[7,3]]]],[7,[5,[4,[3,2]]]]]\n",
      "          ^   ^\n",
      "EXPLODED\n",
      "[[3,[2,[8,0]]],[10,[5,[4,[3,2]]]]]\n"
     ]
    }
   ],
   "source": [
    "# nested = \"[[[[[9,8],1],2],3],4]\" # right only\n",
    "# nested = \"[7,[6,[5,[4,[3,2]]]]]\" # left only\n",
    "nested = \"[[6,[5,[4,[3,2]]]],1]\" # both ways\n",
    "nested = \"[[3,[2,[1,[7,3]]]],[7,[5,[4,[3,2]]]]]\" # [3,2] unaffected\n",
    "cursor = 0\n",
    "depth = 0\n",
    "expReq = False\n",
    "expDone = False\n",
    "leftNum, rightNum = -1, -1\n",
    "print(nested, len(nested))\n",
    "while cursor < len(nested):\n",
    "    c = nested[cursor]\n",
    "    if c == \"[\": depth += 1\n",
    "    elif c == \"]\": depth -= 1\n",
    "\n",
    "    # print(nested)\n",
    "    # print(\" \" * cursor + \"^\", cursor, depth)\n",
    "\n",
    "    if depth == 5:\n",
    "        firstClosingBracket = nested[cursor:].find(\"]\") + cursor\n",
    "        print(\"EXPLODING:\")\n",
    "        print(nested)\n",
    "        print(\" \" * cursor + \"^\" + \" \" * (firstClosingBracket - cursor - 1) + \"^\")\n",
    "\n",
    "        pair = nested[cursor + 1:firstClosingBracket].split(\",\")\n",
    "        l, r = int(pair[0]), int(pair[1])\n",
    "        lcursor,rcursor = cursor,firstClosingBracket\n",
    "        # Find first number at the left\n",
    "        while lcursor > 1:\n",
    "            if nested[lcursor] in string.digits: break\n",
    "            lcursor -= 1\n",
    "        # Find first number at the right\n",
    "        while rcursor < len(nested) - 1:\n",
    "            if nested[rcursor] in string.digits: break\n",
    "            rcursor += 1\n",
    "        # print(nested)\n",
    "        # print(\" \" * cursor + \"^ < cursor\")\n",
    "        # print(\" \" * firstClosingBracket + \"^ < closing bracket\")\n",
    "        # print(\" \" * lcursor + \"^ < lcurs\")\n",
    "        # print(\" \" * rcursor + \"^ < rcurs\")\n",
    "        ln = \"\"\n",
    "        lstart = lcursor\n",
    "        if lcursor > 1:\n",
    "            if nested[lcursor -1] in string.digits:\n",
    "                lstart = lcursor - 1\n",
    "            ln = str(int(nested[lstart: lcursor+1]) + l)\n",
    "        rn = \"\"\n",
    "        rend = rcursor\n",
    "        if rcursor < len(nested) - 1:\n",
    "            if nested[rcursor+1] in string.digits:\n",
    "                rend = rcursor + 1\n",
    "            rn = str(int(nested[rcursor:rend + 1]) + r)\n",
    "        \n",
    "        if ln != \"\":\n",
    "            nested = nested[:lstart] + ln + nested[lcursor + 1:]\n",
    "            rcursor += len(ln) - 1\n",
    "            cursor += len(ln) - 1\n",
    "            firstClosingBracket += len(ln) - 1\n",
    "        if rn != \"\":\n",
    "            nested = nested[:rcursor] + rn + nested[rend + 1:]\n",
    "    \n",
    "        nested = nested[:cursor] + \"0\" + nested[firstClosingBracket + 1:]\n",
    "        cursor = firstClosingBracket\n",
    "        print(\"EXPLODED\")\n",
    "        print(nested)\n",
    "        break\n",
    "    cursor+=1"
   ]
  },
  {
   "cell_type": "markdown",
   "metadata": {},
   "source": [
    "# Explosion implementation"
   ]
  },
  {
   "cell_type": "code",
   "execution_count": 59,
   "metadata": {},
   "outputs": [],
   "source": [
    "def explodes(a):\n",
    "    nested = a\n",
    "    cursor = 0\n",
    "    depth = 0\n",
    "    expReq = False\n",
    "    expDone = False\n",
    "    leftNum, rightNum = -1, -1\n",
    "    while cursor < len(nested):\n",
    "        c = nested[cursor]\n",
    "        if c == \"[\": depth += 1\n",
    "        elif c == \"]\": depth -= 1\n",
    "\n",
    "        if depth == 5:\n",
    "            firstClosingBracket = nested[cursor:].find(\"]\") + cursor\n",
    "            pair = nested[cursor + 1:firstClosingBracket].split(\",\")\n",
    "\n",
    "            l, r = int(pair[0]), int(pair[1])\n",
    "            lcursor,rcursor = cursor,firstClosingBracket\n",
    "\n",
    "            # Find first number at the left\n",
    "            while lcursor > 0:\n",
    "                if nested[lcursor] in string.digits: break\n",
    "                lcursor -= 1\n",
    "\n",
    "            # Find first number at the right\n",
    "            while rcursor < len(nested):\n",
    "                if nested[rcursor] in string.digits: break\n",
    "                rcursor += 1\n",
    "\n",
    "            ln = \"\"\n",
    "            lstart = lcursor\n",
    "            if lcursor > 1:\n",
    "                if nested[lcursor -1] in string.digits:\n",
    "                    lstart = lcursor - 1\n",
    "                ln = str(int(nested[lstart: lcursor+1]) + l)\n",
    "\n",
    "            rn = \"\"\n",
    "            rend = rcursor\n",
    "            if rcursor < len(nested) - 1:\n",
    "                if nested[rcursor+1] in string.digits:\n",
    "                    rend = rcursor + 1\n",
    "                rn = str(int(nested[rcursor:rend + 1]) + r)\n",
    "            \n",
    "            if ln != \"\":\n",
    "                nested = nested[:lstart] + ln + nested[lcursor + 1:]\n",
    "                loffset = len(ln) - 1\n",
    "                rcursor += loffset\n",
    "                rend += loffset\n",
    "                cursor += loffset\n",
    "                firstClosingBracket += loffset\n",
    "            if rn != \"\":\n",
    "                nested = nested[:rcursor] + rn + nested[rend + 1:]\n",
    "                roffset = len(rn) - 1\n",
    "                firstClosingBracket += roffset\n",
    "        \n",
    "            nested = nested[:cursor] + \"0\" + nested[firstClosingBracket + 1:]\n",
    "            cursor = firstClosingBracket\n",
    "            # print(\"EXPLODED\")\n",
    "            # print(nested)\n",
    "            return nested, True\n",
    "        cursor+=1\n",
    "    return nested, False\n"
   ]
  },
  {
   "cell_type": "code",
   "execution_count": 60,
   "metadata": {},
   "outputs": [
    {
     "data": {
      "text/plain": [
       "('[[[[0,9],2],3],4]',\n",
       " '[7,[6,[5,[7,0]]]]',\n",
       " '[[6,[5,[7,0]]],3]',\n",
       " '[[3,[2,[8,0]]],[9,[5,[4,[3,2]]]]]',\n",
       " '[[3,[2,[8,0]]],[9,[5,[7,0]]]]')"
      ]
     },
     "execution_count": 60,
     "metadata": {},
     "output_type": "execute_result"
    }
   ],
   "source": [
    "a = explodes(\"[[[[[9,8],1],2],3],4]\") # right only\n",
    "b = explodes(\"[7,[6,[5,[4,[3,2]]]]]\") # left only\n",
    "c = explodes(\"[[6,[5,[4,[3,2]]]],1]\") # both ways\n",
    "d = explodes(\"[[3,[2,[1,[7,3]]]],[6,[5,[4,[3,2]]]]]\") # [3,2] unaffected\n",
    "e = explodes(\"[[3,[2,[8,0]]],[9,[5,[4,[3,2]]]]]\")\n",
    "a[0], b[0], c[0], d[0], e[0]"
   ]
  },
  {
   "cell_type": "markdown",
   "metadata": {},
   "source": [
    "# Splitting test"
   ]
  },
  {
   "cell_type": "code",
   "execution_count": 45,
   "metadata": {},
   "outputs": [
    {
     "name": "stdout",
     "output_type": "stream",
     "text": [
      "[[5, 6], 2]\n"
     ]
    }
   ],
   "source": [
    "tosplit = \"[11, 2]\"\n",
    "cursor = 0\n",
    "while cursor < len(tosplit):\n",
    "    if tosplit[cursor] in string.digits and tosplit[cursor + 1] in string.digits:\n",
    "        n = int(tosplit[cursor: cursor + 2])\n",
    "        l,r = n // 2, n // 2 + n % 2\n",
    "        tosplit = tosplit[:cursor] + str([l, r]) + tosplit[cursor + 2:]\n",
    "        print(tosplit)\n",
    "        break\n",
    "    cursor += 1"
   ]
  },
  {
   "cell_type": "markdown",
   "metadata": {},
   "source": [
    "# Splitting implementation"
   ]
  },
  {
   "cell_type": "code",
   "execution_count": 46,
   "metadata": {},
   "outputs": [],
   "source": [
    "def splits(a):\n",
    "    tosplit = a\n",
    "    cursor = 0\n",
    "    while cursor < len(tosplit):\n",
    "        if tosplit[cursor] in string.digits and tosplit[cursor + 1] in string.digits:\n",
    "            n = int(tosplit[cursor: cursor + 2])\n",
    "            l,r = n // 2, n // 2 + n % 2\n",
    "            tosplit = tosplit[:cursor] + str([l, r]).replace(\" \", \"\") + tosplit[cursor + 2:]\n",
    "            return tosplit, True\n",
    "        cursor += 1\n",
    "    return tosplit, False"
   ]
  },
  {
   "cell_type": "code",
   "execution_count": 47,
   "metadata": {},
   "outputs": [
    {
     "data": {
      "text/plain": [
       "('[[5,6], 2]', True)"
      ]
     },
     "execution_count": 47,
     "metadata": {},
     "output_type": "execute_result"
    }
   ],
   "source": [
    "splits(\"[11, 2]\")"
   ]
  },
  {
   "cell_type": "code",
   "execution_count": 48,
   "metadata": {},
   "outputs": [],
   "source": [
    "def reduces(a):\n",
    "    print(\"Reducing:\", a)\n",
    "    while True:\n",
    "        a, r = explodes(a)\n",
    "        if r: print(\"Exploded:\", a)\n",
    "        else:\n",
    "            a, r = splits(a)\n",
    "            if r: print(\"Reduced:\", a)\n",
    "            else: break\n",
    "    return a\n"
   ]
  },
  {
   "cell_type": "code",
   "execution_count": 53,
   "metadata": {},
   "outputs": [],
   "source": [
    "x, y = \"[[[[4,3],4],4],[7,[[8,4],9]]]\", \"[1,1]\"\n",
    "z = adds(x, y)\n",
    "res = \"[[[[0,7],4],[[7,8],[6,0]]],[8,1]]\".replace(\" \", \"\")"
   ]
  },
  {
   "cell_type": "code",
   "execution_count": 54,
   "metadata": {},
   "outputs": [
    {
     "name": "stdout",
     "output_type": "stream",
     "text": [
      "Reducing: [[[[[4,3],4],4],[7,[[8,4],9]]],[1,1]]\n",
      "Exploded: [[[[0,7],4],[7,[[8,4],9]]],[1,1]]\n",
      "Exploded: [[[[0,7],4],[15,[013]]],[1,1]]\n",
      "Reduced: [[[[0,7],4],[[7,8],[013]]],[1,1]]\n",
      "Reduced: [[[[0,7],4],[[7,8],[[0,1]3]]],[1,1]]\n",
      "Exploded: [[[[0,7],4],[[7,8],[04]]],[1,1]]\n",
      "Reduced: [[[[0,7],4],[[7,8],[[2,2]]]],[1,1]]\n",
      "Exploded: [[[[0,7],4],[[7,10],[0]]],[3,1]]\n",
      "Reduced: [[[[0,7],4],[[7,[5,5]],[0]]],[3,1]]\n",
      "Exploded: [[[[0,7],4],[[12,0],[5]]],[3,1]]\n",
      "Reduced: [[[[0,7],4],[[[6,6],0],[5]]],[3,1]]\n",
      "Exploded: [[[[0,7],10],[[0,6],[5]]],[3,1]]\n",
      "Reduced: [[[[0,7],[5,5]],[[0,6],[5]]],[3,1]]\n",
      "Reducing: [[[[[4,3],4],4],[7,[[8,4],9]]],[1,1]]\n",
      "Exploded: [[[[0,7],4],[7,[[8,4],9]]],[1,1]]\n",
      "Exploded: [[[[0,7],4],[15,[013]]],[1,1]]\n",
      "Reduced: [[[[0,7],4],[[7,8],[013]]],[1,1]]\n",
      "Reduced: [[[[0,7],4],[[7,8],[[0,1]3]]],[1,1]]\n",
      "Exploded: [[[[0,7],4],[[7,8],[04]]],[1,1]]\n",
      "Reduced: [[[[0,7],4],[[7,8],[[2,2]]]],[1,1]]\n",
      "Exploded: [[[[0,7],4],[[7,10],[0]]],[3,1]]\n",
      "Reduced: [[[[0,7],4],[[7,[5,5]],[0]]],[3,1]]\n",
      "Exploded: [[[[0,7],4],[[12,0],[5]]],[3,1]]\n",
      "Reduced: [[[[0,7],4],[[[6,6],0],[5]]],[3,1]]\n",
      "Exploded: [[[[0,7],10],[[0,6],[5]]],[3,1]]\n",
      "Reduced: [[[[0,7],[5,5]],[[0,6],[5]]],[3,1]]\n"
     ]
    },
    {
     "data": {
      "text/plain": [
       "('[[[[0,7],[5,5]],[[0,6],[5]]],[3,1]]', False)"
      ]
     },
     "execution_count": 54,
     "metadata": {},
     "output_type": "execute_result"
    }
   ],
   "source": [
    "reduces(z), res == reduces(z)"
   ]
  },
  {
   "cell_type": "code",
   "execution_count": 152,
   "metadata": {},
   "outputs": [
    {
     "data": {
      "text/plain": [
       "False"
      ]
     },
     "execution_count": 152,
     "metadata": {},
     "output_type": "execute_result"
    }
   ],
   "source": [
    "[[9,5], [0,1]]"
   ]
  },
  {
   "cell_type": "code",
   "execution_count": 61,
   "metadata": {},
   "outputs": [
    {
     "name": "stdout",
     "output_type": "stream",
     "text": [
      "Reducing: [[[[0,[4,5]],[0,0]],[[[4,5],[2,6]],[9,5]]],[7,[[[3,7],[4,3]],[[6,3],[8,8]]]]]\n",
      "Exploded: [[[[4,0],[5,0]],[[[4,5],[2,6]],[9,5]]],[7,[[[3,7],[4,3]],[[6,3],[8,8]]]]]\n",
      "Exploded: [[[[4,0],[5,4]],[[0,[7,6]],[9,5]]],[7,[[[3,7],[4,3]],[[6,3],[8,8]]]]]\n",
      "Exploded: [[[[4,0],[5,4]],[[7,0,[15,5]]],[7,[[[3,7],[4,3]],[[6,3],[8,8]]]]]\n",
      "Exploded: [[[[4,0],[5,4]],[[7,15,0],[12,[[[3,7],[4,3]],[[6,3],[8,8]]]]]\n"
     ]
    },
    {
     "ename": "ValueError",
     "evalue": "invalid literal for int() with base 10: '[[3'",
     "output_type": "error",
     "traceback": [
      "\u001b[0;31m---------------------------------------------------------------------------\u001b[0m",
      "\u001b[0;31mValueError\u001b[0m                                Traceback (most recent call last)",
      "\u001b[0;32m/var/folders/bv/c7z8c75x4fzfwtv_ch3gw2s80000gn/T/ipykernel_4081/3928908767.py\u001b[0m in \u001b[0;36m<module>\u001b[0;34m\u001b[0m\n\u001b[1;32m      3\u001b[0m \u001b[0;32mfor\u001b[0m \u001b[0mx\u001b[0m \u001b[0;32min\u001b[0m \u001b[0mrange\u001b[0m\u001b[0;34m(\u001b[0m\u001b[0;36m1\u001b[0m\u001b[0;34m,\u001b[0m \u001b[0mlen\u001b[0m\u001b[0;34m(\u001b[0m\u001b[0mnums\u001b[0m\u001b[0;34m)\u001b[0m\u001b[0;34m)\u001b[0m\u001b[0;34m:\u001b[0m\u001b[0;34m\u001b[0m\u001b[0;34m\u001b[0m\u001b[0m\n\u001b[1;32m      4\u001b[0m     \u001b[0mr\u001b[0m \u001b[0;34m=\u001b[0m \u001b[0madds\u001b[0m\u001b[0;34m(\u001b[0m\u001b[0mr\u001b[0m\u001b[0;34m,\u001b[0m \u001b[0mnums\u001b[0m\u001b[0;34m[\u001b[0m\u001b[0mx\u001b[0m\u001b[0;34m]\u001b[0m\u001b[0;34m)\u001b[0m\u001b[0;34m\u001b[0m\u001b[0;34m\u001b[0m\u001b[0m\n\u001b[0;32m----> 5\u001b[0;31m     \u001b[0mr\u001b[0m \u001b[0;34m=\u001b[0m \u001b[0mreduces\u001b[0m\u001b[0;34m(\u001b[0m\u001b[0mr\u001b[0m\u001b[0;34m)\u001b[0m\u001b[0;34m\u001b[0m\u001b[0;34m\u001b[0m\u001b[0m\n\u001b[0m\u001b[1;32m      6\u001b[0m \u001b[0mprint\u001b[0m\u001b[0;34m(\u001b[0m\u001b[0mr\u001b[0m\u001b[0;34m)\u001b[0m\u001b[0;34m\u001b[0m\u001b[0;34m\u001b[0m\u001b[0m\n",
      "\u001b[0;32m/var/folders/bv/c7z8c75x4fzfwtv_ch3gw2s80000gn/T/ipykernel_4081/182391340.py\u001b[0m in \u001b[0;36mreduces\u001b[0;34m(a)\u001b[0m\n\u001b[1;32m      2\u001b[0m     \u001b[0mprint\u001b[0m\u001b[0;34m(\u001b[0m\u001b[0;34m\"Reducing:\"\u001b[0m\u001b[0;34m,\u001b[0m \u001b[0ma\u001b[0m\u001b[0;34m)\u001b[0m\u001b[0;34m\u001b[0m\u001b[0;34m\u001b[0m\u001b[0m\n\u001b[1;32m      3\u001b[0m     \u001b[0;32mwhile\u001b[0m \u001b[0;32mTrue\u001b[0m\u001b[0;34m:\u001b[0m\u001b[0;34m\u001b[0m\u001b[0;34m\u001b[0m\u001b[0m\n\u001b[0;32m----> 4\u001b[0;31m         \u001b[0ma\u001b[0m\u001b[0;34m,\u001b[0m \u001b[0mr\u001b[0m \u001b[0;34m=\u001b[0m \u001b[0mexplodes\u001b[0m\u001b[0;34m(\u001b[0m\u001b[0ma\u001b[0m\u001b[0;34m)\u001b[0m\u001b[0;34m\u001b[0m\u001b[0;34m\u001b[0m\u001b[0m\n\u001b[0m\u001b[1;32m      5\u001b[0m         \u001b[0;32mif\u001b[0m \u001b[0mr\u001b[0m\u001b[0;34m:\u001b[0m \u001b[0mprint\u001b[0m\u001b[0;34m(\u001b[0m\u001b[0;34m\"Exploded:\"\u001b[0m\u001b[0;34m,\u001b[0m \u001b[0ma\u001b[0m\u001b[0;34m)\u001b[0m\u001b[0;34m\u001b[0m\u001b[0;34m\u001b[0m\u001b[0m\n\u001b[1;32m      6\u001b[0m         \u001b[0;32melse\u001b[0m\u001b[0;34m:\u001b[0m\u001b[0;34m\u001b[0m\u001b[0;34m\u001b[0m\u001b[0m\n",
      "\u001b[0;32m/var/folders/bv/c7z8c75x4fzfwtv_ch3gw2s80000gn/T/ipykernel_4081/2577024343.py\u001b[0m in \u001b[0;36mexplodes\u001b[0;34m(a)\u001b[0m\n\u001b[1;32m     15\u001b[0m             \u001b[0mpair\u001b[0m \u001b[0;34m=\u001b[0m \u001b[0mnested\u001b[0m\u001b[0;34m[\u001b[0m\u001b[0mcursor\u001b[0m \u001b[0;34m+\u001b[0m \u001b[0;36m1\u001b[0m\u001b[0;34m:\u001b[0m\u001b[0mfirstClosingBracket\u001b[0m\u001b[0;34m]\u001b[0m\u001b[0;34m.\u001b[0m\u001b[0msplit\u001b[0m\u001b[0;34m(\u001b[0m\u001b[0;34m\",\"\u001b[0m\u001b[0;34m)\u001b[0m\u001b[0;34m\u001b[0m\u001b[0;34m\u001b[0m\u001b[0m\n\u001b[1;32m     16\u001b[0m \u001b[0;34m\u001b[0m\u001b[0m\n\u001b[0;32m---> 17\u001b[0;31m             \u001b[0ml\u001b[0m\u001b[0;34m,\u001b[0m \u001b[0mr\u001b[0m \u001b[0;34m=\u001b[0m \u001b[0mint\u001b[0m\u001b[0;34m(\u001b[0m\u001b[0mpair\u001b[0m\u001b[0;34m[\u001b[0m\u001b[0;36m0\u001b[0m\u001b[0;34m]\u001b[0m\u001b[0;34m)\u001b[0m\u001b[0;34m,\u001b[0m \u001b[0mint\u001b[0m\u001b[0;34m(\u001b[0m\u001b[0mpair\u001b[0m\u001b[0;34m[\u001b[0m\u001b[0;36m1\u001b[0m\u001b[0;34m]\u001b[0m\u001b[0;34m)\u001b[0m\u001b[0;34m\u001b[0m\u001b[0;34m\u001b[0m\u001b[0m\n\u001b[0m\u001b[1;32m     18\u001b[0m             \u001b[0mlcursor\u001b[0m\u001b[0;34m,\u001b[0m\u001b[0mrcursor\u001b[0m \u001b[0;34m=\u001b[0m \u001b[0mcursor\u001b[0m\u001b[0;34m,\u001b[0m\u001b[0mfirstClosingBracket\u001b[0m\u001b[0;34m\u001b[0m\u001b[0;34m\u001b[0m\u001b[0m\n\u001b[1;32m     19\u001b[0m \u001b[0;34m\u001b[0m\u001b[0m\n",
      "\u001b[0;31mValueError\u001b[0m: invalid literal for int() with base 10: '[[3'"
     ]
    }
   ],
   "source": [
    "nums = open(\"puzzle18_es.txt\").read().split(\"\\n\")\n",
    "r = nums[0]\n",
    "for x in range(1, len(nums)):\n",
    "    r = adds(r, nums[x])\n",
    "    r = reduces(r)\n",
    "print(r)"
   ]
  },
  {
   "cell_type": "code",
   "execution_count": null,
   "metadata": {},
   "outputs": [],
   "source": []
  }
 ],
 "metadata": {
  "interpreter": {
   "hash": "aee8b7b246df8f9039afb4144a1f6fd8d2ca17a180786b69acc140d282b71a49"
  },
  "kernelspec": {
   "display_name": "Python 3.10.0 64-bit",
   "language": "python",
   "name": "python3"
  },
  "language_info": {
   "codemirror_mode": {
    "name": "ipython",
    "version": 3
   },
   "file_extension": ".py",
   "mimetype": "text/x-python",
   "name": "python",
   "nbconvert_exporter": "python",
   "pygments_lexer": "ipython3",
   "version": "3.10.0"
  },
  "orig_nbformat": 4
 },
 "nbformat": 4,
 "nbformat_minor": 2
}
