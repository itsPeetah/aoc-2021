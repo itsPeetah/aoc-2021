{
 "cells": [
  {
   "cell_type": "code",
   "execution_count": 9,
   "metadata": {},
   "outputs": [],
   "source": [
    "import numpy as np"
   ]
  },
  {
   "cell_type": "code",
   "execution_count": 18,
   "metadata": {},
   "outputs": [],
   "source": [
    "inputLines = open(\"puzzle19_ex.txt\").read().split(\"\\n\\n\")\n",
    "scanners = []\n",
    "key = -1\n",
    "for line in inputLines:\n",
    "    for line2 in line.split(\"\\n\"):\n",
    "        if \"scanner\" in line2:\n",
    "            key += 1\n",
    "            scanners.append([])\n",
    "        else:\n",
    "            scanners[key].append(tuple(map(int, line2.split(\",\"))))"
   ]
  },
  {
   "cell_type": "code",
   "execution_count": 14,
   "metadata": {},
   "outputs": [],
   "source": [
    "def getRotations(scanner : list[tuple[int]]):\n",
    "    rotations = [None for _ in range(24)]\n",
    "    #positive x\n",
    "    rotations[0]=[(+coord[0],+coord[1],+coord[2]) for coord in scanner]\n",
    "    rotations[1]=[(+coord[0],-coord[2],+coord[1]) for coord in scanner]\n",
    "    rotations[2]=[(+coord[0],-coord[1],-coord[2]) for coord in scanner]\n",
    "    rotations[3]=[(+coord[0],+coord[2],-coord[1]) for coord in scanner]\n",
    "    #negative x\n",
    "    rotations[4]=[(-coord[0],-coord[1],+coord[2]) for coord in scanner]\n",
    "    rotations[5]=[(-coord[0],+coord[2],+coord[1]) for coord in scanner]\n",
    "    rotations[6]=[(-coord[0],+coord[1],-coord[2]) for coord in scanner]\n",
    "    rotations[7]=[(-coord[0],-coord[2],-coord[1]) for coord in scanner]\n",
    "    #positive y\n",
    "    rotations[8]=[(+coord[1],+coord[2],+coord[0]) for coord in scanner]\n",
    "    rotations[9]=[(+coord[1],-coord[0],+coord[2]) for coord in scanner]\n",
    "    rotations[10]=[(+coord[1],-coord[2],-coord[0]) for coord in scanner]\n",
    "    rotations[11]=[(+coord[1],+coord[0],-coord[2]) for coord in scanner]\n",
    "    #negative y\n",
    "    rotations[12]=[(-coord[1],-coord[2],+coord[0]) for coord in scanner]\n",
    "    rotations[13]=[(-coord[1],+coord[0],+coord[2]) for coord in scanner]\n",
    "    rotations[14]=[(-coord[1],+coord[2],-coord[0]) for coord in scanner]\n",
    "    rotations[15]=[(-coord[1],-coord[0],-coord[2]) for coord in scanner]\n",
    "    #positive z\n",
    "    rotations[16]=[(+coord[2],+coord[0],+coord[1]) for coord in scanner]\n",
    "    rotations[17]=[(+coord[2],-coord[1],+coord[0]) for coord in scanner]\n",
    "    rotations[18]=[(+coord[2],-coord[0],-coord[1]) for coord in scanner]\n",
    "    rotations[19]=[(+coord[2],+coord[1],-coord[0]) for coord in scanner]\n",
    "    #negative z\n",
    "    rotations[20]=[(-coord[2],-coord[0],+coord[1]) for coord in scanner]\n",
    "    rotations[21]=[(-coord[2],+coord[1],+coord[0]) for coord in scanner]\n",
    "    rotations[22]=[(-coord[2],+coord[0],-coord[1]) for coord in scanner]\n",
    "    rotations[23]=[(-coord[2],-coord[1],-coord[0]) for coord in scanner]\n",
    "    return rotations\n"
   ]
  },
  {
   "cell_type": "code",
   "execution_count": 19,
   "metadata": {},
   "outputs": [],
   "source": [
    "def overlapsAtReferencePoint(pointAIndex, scannerA, pointBIndex, scannerB):\n",
    "    '''Return success and new beacon coords relative to scannerA'''\n",
    "    # Calculate new reference point offsets\n",
    "    xoffA, yoffA, zoffA = scannerA[pointAIndex]\n",
    "    xoffB, yoffB, zoffB = scannerB[pointBIndex]\n",
    "    # Offset all points to match the new reference\n",
    "    newScannerA = [(x - xoffA, y - yoffA, z - zoffA) for (x, y, z) in scannerA]\n",
    "    newScannerB = [(x - xoffB, y - yoffB, z - zoffB) for (x, y, z) in scannerB]\n",
    "    # Find overlaps\n",
    "    overlaps = len([xyz for xyz in newScannerA if xyz in newScannerB])\n",
    "    if overlaps >= 12:\n",
    "        return True, [(x + xoffA, y + yoffA, z + zoffA) for (x,y,z) in newScannerB if (x,y,z) in newScannerA]\n",
    "    else:\n",
    "        return False, scannerA"
   ]
  },
  {
   "cell_type": "code",
   "execution_count": null,
   "metadata": {},
   "outputs": [],
   "source": [
    "scanner = [xyz for xyz in scanners[0]]\n",
    "# Loop scanners\n",
    "for s1 in range(len(scanners)):\n",
    "    for s2 in range(s1, len(scanners)):\n",
    "        found = False\n",
    "        for r1 in range(24):\n",
    "            for s2 in range(24):\n",
    "                \n"
   ]
  }
 ],
 "metadata": {
  "interpreter": {
   "hash": "aee8b7b246df8f9039afb4144a1f6fd8d2ca17a180786b69acc140d282b71a49"
  },
  "kernelspec": {
   "display_name": "Python 3.10.0 64-bit",
   "language": "python",
   "name": "python3"
  },
  "language_info": {
   "codemirror_mode": {
    "name": "ipython",
    "version": 3
   },
   "file_extension": ".py",
   "mimetype": "text/x-python",
   "name": "python",
   "nbconvert_exporter": "python",
   "pygments_lexer": "ipython3",
   "version": "3.10.0"
  },
  "orig_nbformat": 4
 },
 "nbformat": 4,
 "nbformat_minor": 2
}
